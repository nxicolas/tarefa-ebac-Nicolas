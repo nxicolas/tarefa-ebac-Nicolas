{
  "nbformat": 4,
  "nbformat_minor": 0,
  "metadata": {
    "colab": {
      "provenance": [],
      "authorship_tag": "ABX9TyNeK9Xk6KGI/FOl2QwT0WFQ",
      "include_colab_link": true
    },
    "kernelspec": {
      "name": "python3",
      "display_name": "Python 3"
    },
    "language_info": {
      "name": "python"
    }
  },
  "cells": [
    {
      "cell_type": "markdown",
      "metadata": {
        "id": "view-in-github",
        "colab_type": "text"
      },
      "source": [
        "<a href=\"https://colab.research.google.com/github/nxicolas/tarefa-ebac-Nicolas/blob/main/exercicio_de_cadastro_de_livros.ipynb\" target=\"_parent\"><img src=\"https://colab.research.google.com/assets/colab-badge.svg\" alt=\"Open In Colab\"/></a>"
      ]
    },
    {
      "cell_type": "code",
      "source": [
        "class Livro:\n",
        "    def __init__(self, titulo, autor, genero, quantidade):\n",
        "        self.titulo = titulo\n",
        "        self.autor = autor\n",
        "        self.genero = genero\n",
        "        self.quantidade = quantidade\n",
        "\n",
        "livros = []\n",
        "\n",
        "def cadastrar_livro():\n",
        "    titulo = input(\"Digite o título do livro: \")\n",
        "    autor = input(\"Digite o autor do livro: \")\n",
        "    genero = input(\"Digite o gênero do livro: \")\n",
        "    quantidade = int(input(\"Digite a quantidade disponível: \"))\n",
        "    novo_livro = Livro(titulo, autor, genero, quantidade)\n",
        "    livros.append(novo_livro)\n",
        "    print(\"Livro cadastrado com sucesso!\")\n",
        "\n",
        "def listar_livros():\n",
        "    if not livros:\n",
        "        print(\"Não há livros cadastrados.\")\n",
        "    else:\n",
        "        for livro in livros:\n",
        "            print(f\"Título: {livro.titulo}, Autor: {livro.autor}, Gênero: {livro.genero}, Quantidade: {livro.quantidade}\")\n",
        "\n",
        "def buscar_livro(titulo):\n",
        "    for livro in livros:\n",
        "        if livro.titulo == titulo:\n",
        "            print(f\"Livro encontrado: {livro.titulo}\")\n",
        "            return livro\n",
        "    print(\"Livro não encontrado.\")\n",
        "\n",
        "import matplotlib.pyplot as plt\n",
        "\n",
        "def gerar_grafico():\n",
        "    generos = []\n",
        "    quantidades = []\n",
        "    for livro in livros:\n",
        "        if livro.genero not in generos:\n",
        "            generos.append(livro.genero)\n",
        "            quantidades.append(1)\n",
        "        else:\n",
        "            indice = generos.index(livro.genero)\n",
        "            quantidades[indice] += 1\n",
        "\n",
        "    plt.bar(generos, quantidades)\n",
        "    plt.xlabel(\"Gênero\")\n",
        "    plt.ylabel(\"Quantidade\")\n",
        "    plt.title(\"Livros por Gênero\")\n",
        "    plt.show()\n",
        "\n",
        "if __name__ == \"__main__\":\n",
        "    while True:\n",
        "        print(\"\\n--- Sistema de Gerenciamento de Livros ---\")\n",
        "        print(\"1. Cadastrar livro\")\n",
        "        print(\"2. Listar livros\")\n",
        "        print(\"3. Buscar livro\")\n",
        "        print(\"4. Gerar gráfico\")\n",
        "        print(\"5. Sair\")\n",
        "        opcao = int(input(\"Digite a opção desejada: \"))\n",
        "\n",
        "        if opcao == 1:\n",
        "            cadastrar_livro()\n",
        "        elif opcao == 2:\n",
        "            listar_livros()\n",
        "        elif opcao == 3:\n",
        "            titulo = input(\"Digite o título do livro para buscar: \")\n",
        "            buscar_livro(titulo)\n",
        "        elif opcao == 4:\n",
        "            gerar_grafico()\n",
        "        elif opcao == 5:\n",
        "            break\n",
        "        else:\n",
        "            print(\"Opção inválida.\")"
      ],
      "metadata": {
        "colab": {
          "base_uri": "https://localhost:8080/",
          "height": 1000
        },
        "id": "zULUb9geZia-",
        "outputId": "c809f8b7-c661-4d82-c23d-a7e6e41f3d8d"
      },
      "execution_count": 9,
      "outputs": [
        {
          "metadata": {
            "tags": null
          },
          "name": "stdout",
          "output_type": "stream",
          "text": [
            "\n",
            "--- Sistema de Gerenciamento de Livros ---\n",
            "1. Cadastrar livro\n",
            "2. Listar livros\n",
            "3. Buscar livro\n",
            "4. Gerar gráfico\n",
            "5. Sair\n",
            "Não há livros cadastrados.\n",
            "\n",
            "--- Sistema de Gerenciamento de Livros ---\n",
            "1. Cadastrar livro\n",
            "2. Listar livros\n",
            "3. Buscar livro\n",
            "4. Gerar gráfico\n",
            "5. Sair\n",
            "Livro cadastrado com sucesso!\n",
            "\n",
            "--- Sistema de Gerenciamento de Livros ---\n",
            "1. Cadastrar livro\n",
            "2. Listar livros\n",
            "3. Buscar livro\n",
            "4. Gerar gráfico\n",
            "5. Sair\n"
          ]
        },
        {
          "data": {
            "image/png": "[encoded data removed]",
            "text/plain": [
              "<Figure size 640x480 with 1 Axes>"
            ]
          },
          "metadata": {},
          "output_type": "display_data"
        },
        {
          "name": "stdout",
          "output_type": "stream",
          "text": [
            "\n",
            "--- Sistema de Gerenciamento de Livros ---\n",
            "1. Cadastrar livro\n",
            "2. Listar livros\n",
            "3. Buscar livro\n",
            "4. Gerar gráfico\n",
            "5. Sair\n",
            "Digite a opção desejada: 5\n"
          ]
        }
      ]
    }
  ]
}